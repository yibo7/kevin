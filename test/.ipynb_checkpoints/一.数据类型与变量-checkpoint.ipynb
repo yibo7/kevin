{
 "cells": [
  {
   "cell_type": "markdown",
   "id": "5837d898",
   "metadata": {},
   "source": [
    "# 一.数据类型与变量测试题"
   ]
  }
 ],
 "metadata": {
  "kernelspec": {
   "display_name": "\"Python/Mu (mu_venv-38-20211110-120707)\"",
   "language": "python",
   "name": "mu_venv-38-20211110-120707"
  },
  "language_info": {
   "codemirror_mode": {
    "name": "ipython",
    "version": 3
   },
   "file_extension": ".py",
   "mimetype": "text/x-python",
   "name": "python",
   "nbconvert_exporter": "python",
   "pygments_lexer": "ipython3",
   "version": "3.8.11"
  }
 },
 "nbformat": 4,
 "nbformat_minor": 5
}
