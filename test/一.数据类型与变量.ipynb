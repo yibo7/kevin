{
 "cells": [
  {
   "cell_type": "markdown",
   "id": "5837d898",
   "metadata": {},
   "source": [
    "# 一.数据类型与变量测试题 "
   ]
  },
  {
   "cell_type": "markdown",
   "id": "5a962fbb",
   "metadata": {},
   "source": [
    "##### 1.定义一个变量并给它赋值随意一段字符串，然后使用print打印出来"
   ]
  },
  {
   "cell_type": "code",
   "execution_count": 1,
   "id": "c2bc3001",
   "metadata": {},
   "outputs": [
    {
     "name": "stdout",
     "output_type": "stream",
     "text": [
      "我是Cmy\n"
     ]
    }
   ],
   "source": [
    "print('我是Cmy')"
   ]
  },
  {
   "cell_type": "markdown",
   "id": "89a26b70",
   "metadata": {},
   "source": [
    "##### 2.有一个python兴趣小组共三人，他们的年龄分别是11岁，15谁，19岁，请使用程序求出他们的平均年龄"
   ]
  },
  {
   "cell_type": "code",
   "execution_count": 2,
   "id": "1279a183",
   "metadata": {},
   "outputs": [
    {
     "name": "stdout",
     "output_type": "stream",
     "text": [
      "15.0\n"
     ]
    }
   ],
   "source": [
    "age1 = 11\n",
    "age2 = 15\n",
    "age3 = 19\n",
    "avg = (age1+ age2 + age3) / 3\n",
    "print(avg)"
   ]
  },
  {
   "cell_type": "markdown",
   "id": "1f0d4f89",
   "metadata": {},
   "source": [
    "##### 3.直接计算并打印计算一周有多少分钟"
   ]
  },
  {
   "cell_type": "code",
   "execution_count": null,
   "id": "2a9d45c2",
   "metadata": {},
   "outputs": [],
   "source": []
  },
  {
   "cell_type": "markdown",
   "id": "a1035e4c",
   "metadata": {},
   "source": [
    "##### 4.改变以下变量my_name的值为你的名字，并打印出来"
   ]
  },
  {
   "cell_type": "code",
   "execution_count": null,
   "id": "d4948fe9",
   "metadata": {},
   "outputs": [],
   "source": [
    "my_name = 10"
   ]
  },
  {
   "cell_type": "markdown",
   "id": "7d41b306",
   "metadata": {},
   "source": [
    "##### 5.已经变量一周里的天数 days_of_week = 7，一天里的小时数 hours_of_day = 24，一小时里的分钟数 minutes_of_hour = 60，请使用这三个变量，计算出一周有多少分钟"
   ]
  },
  {
   "cell_type": "code",
   "execution_count": null,
   "id": "8167c836",
   "metadata": {},
   "outputs": [],
   "source": []
  },
  {
   "cell_type": "markdown",
   "id": "47c444a6",
   "metadata": {},
   "source": [
    "##### 6.变量age = 10 与 变量 age = \"10\" 相等吗？为什么?"
   ]
  },
  {
   "cell_type": "markdown",
   "id": "23103255",
   "metadata": {},
   "source": [
    "答："
   ]
  },
  {
   "cell_type": "markdown",
   "id": "226ef707",
   "metadata": {},
   "source": [
    "##### 7.对于 my_name = '蔡名洋' 与 my_name = \"蔡铭洋\" 结果相同吗？ "
   ]
  },
  {
   "cell_type": "markdown",
   "id": "c0edaf43",
   "metadata": {},
   "source": [
    "答："
   ]
  }
 ],
 "metadata": {
  "interpreter": {
   "hash": "e746eafcc9c3755c618fd70b7289e2c77c6dfaa86036ed9f41128bb78d1ac1c4"
  },
  "kernelspec": {
   "display_name": "\"Python/Mu (mu_venv-38-20211110-120707)\"",
   "language": "python",
   "name": "mu_venv-38-20211110-120707"
  },
  "language_info": {
   "codemirror_mode": {
    "name": "ipython",
    "version": 3
   },
   "file_extension": ".py",
   "mimetype": "text/x-python",
   "name": "python",
   "nbconvert_exporter": "python",
   "pygments_lexer": "ipython3",
   "version": "3.8.11"
  }
 },
 "nbformat": 4,
 "nbformat_minor": 5
}
