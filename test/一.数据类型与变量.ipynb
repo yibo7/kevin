{
 "cells": [
  {
   "cell_type": "markdown",
   "id": "5837d898",
   "metadata": {},
   "source": [
    "# 一.数据类型与变量测试题 "
   ]
  },
  {
   "cell_type": "markdown",
   "id": "5a962fbb",
   "metadata": {},
   "source": [
    "##### 1.定义一个变量并给它赋值随意一段字符串，然后使用print打印出来"
   ]
  },
  {
   "cell_type": "code",
   "execution_count": 1,
   "id": "c2bc3001",
   "metadata": {},
   "outputs": [
    {
     "name": "stdout",
     "output_type": "stream",
     "text": [
      "我是Cmy\n"
     ]
    }
   ],
   "source": [
    "print('我是Cmy')"
   ]
  },
  {
   "cell_type": "markdown",
   "id": "89a26b70",
   "metadata": {},
   "source": [
    "##### 2.有一个python兴趣小组共三人，他们的年龄分别是11岁，15谁，19岁，请使用程序求出他们的平均年龄"
   ]
  },
  {
   "cell_type": "code",
   "execution_count": 2,
   "id": "1279a183",
   "metadata": {},
   "outputs": [
    {
     "name": "stdout",
     "output_type": "stream",
     "text": [
      "15.0\n"
     ]
    }
   ],
   "source": [
    "age1 = 11\n",
    "age2 = 15\n",
    "age3 = 19\n",
    "avg = (age1+ age2 + age3) / 3\n",
    "print(avg)"
   ]
  },
  {
   "cell_type": "markdown",
   "id": "1f0d4f89",
   "metadata": {},
   "source": [
    "##### 3.直接计算并打印计算一周有多少分钟"
   ]
  },
  {
   "cell_type": "code",
   "execution_count": null,
   "id": "2a9d45c2",
   "metadata": {},
   "outputs": [],
   "source": []
  },
  {
   "cell_type": "markdown",
   "id": "a1035e4c",
   "metadata": {},
   "source": [
    "##### 4.改变以下变量my_name的值为你的名字，并打印出来"
   ]
  },
  {
   "cell_type": "code",
   "execution_count": 3,
   "id": "d4948fe9",
   "metadata": {},
   "outputs": [],
   "source": [
    "my_name = 10"
   ]
  },
  {
   "cell_type": "markdown",
   "id": "7d41b306",
   "metadata": {},
   "source": [
    "##### 5.已经变量一周里的天数 days_of_week = 7，一天里的小时数 hours_of_day = 24，一小时里的分钟数 minutes_of_hour = 60，请使用这三个变量，计算出一周有多少分钟"
   ]
  },
  {
   "cell_type": "code",
   "execution_count": null,
   "id": "8167c836",
   "metadata": {},
   "outputs": [],
   "source": []
  },
  {
   "cell_type": "markdown",
   "id": "47c444a6",
   "metadata": {},
   "source": [
    "##### 6.变量age = 10 与 变量 age = \"10\" 相等吗？为什么?"
   ]
  },
  {
   "cell_type": "markdown",
   "id": "23103255",
   "metadata": {},
   "source": [
    "答："
   ]
  },
  {
   "cell_type": "markdown",
   "id": "226ef707",
   "metadata": {},
   "source": [
    "##### 7.对于 my_name = '蔡名洋' 与 my_name = \"蔡铭洋\" 结果相同吗？ "
   ]
  },
  {
   "cell_type": "markdown",
   "id": "c0edaf43",
   "metadata": {},
   "source": [
    "答："
   ]
  },
  {
   "cell_type": "markdown",
   "id": "ff115b3f",
   "metadata": {},
   "source": [
    "### 8.将浮点数2.6赋值给一个变量，并将其转换成整数后，赋值给另一个变量,并打印出结果"
   ]
  },
  {
   "cell_type": "code",
   "execution_count": null,
   "id": "5bdc216a",
   "metadata": {},
   "outputs": [],
   "source": [
    "num_1 = 2.6\n",
    "num_2 = int(num_1)\n",
    "print(num_1)"
   ]
  },
  {
   "cell_type": "markdown",
   "id": "3bff724d",
   "metadata": {},
   "source": [
    "### 9.同样将整数9转换成浮点数并赋值给一个变量，并打印出结果"
   ]
  },
  {
   "cell_type": "markdown",
   "id": "2a995ef7",
   "metadata": {},
   "source": []
  },
  {
   "cell_type": "markdown",
   "id": "021e0b96",
   "metadata": {},
   "source": [
    "### 10.使用变量，求出3除2的结果，并通过打印出来"
   ]
  },
  {
   "cell_type": "code",
   "execution_count": null,
   "id": "80870116",
   "metadata": {},
   "outputs": [],
   "source": []
  },
  {
   "cell_type": "markdown",
   "id": "9a855974",
   "metadata": {},
   "source": [
    "### 11.使用变量，求出3除2的余数，并通过变量打印出来"
   ]
  },
  {
   "cell_type": "code",
   "execution_count": null,
   "id": "abe64281",
   "metadata": {},
   "outputs": [],
   "source": []
  },
  {
   "cell_type": "markdown",
   "id": "2f1b7816",
   "metadata": {},
   "source": [
    "### 12.使用变量求出2x2x2x2x2的结果，然后使用简便方式再求一遍，看看他们结果是不是一样"
   ]
  },
  {
   "cell_type": "code",
   "execution_count": null,
   "id": "ebc93336",
   "metadata": {},
   "outputs": [],
   "source": []
  },
  {
   "cell_type": "markdown",
   "id": "7872549a",
   "metadata": {},
   "source": [
    "### 13.已知一个长方形的长为16.7m,宽为12.5m,使用变量求这个长方形的周长与面积"
   ]
  },
  {
   "cell_type": "code",
   "execution_count": null,
   "id": "8b442cbf",
   "metadata": {},
   "outputs": [],
   "source": []
  },
  {
   "cell_type": "markdown",
   "id": "7460fdd1",
   "metadata": {},
   "source": [
    "### 14.一辆车以80km/h的速度行驶在路上，一共走了200km，使用变量求出这辆车一共行驶了多长时间"
   ]
  },
  {
   "cell_type": "code",
   "execution_count": null,
   "id": "e3e5ce48",
   "metadata": {},
   "outputs": [],
   "source": []
  },
  {
   "cell_type": "markdown",
   "id": "03ed5db9",
   "metadata": {},
   "source": [
    "### 15.已知'12.34'是一个字符串，如何让这个数扩大100倍，并打印出结果"
   ]
  },
  {
   "cell_type": "code",
   "execution_count": null,
   "id": "d40866e9",
   "metadata": {},
   "outputs": [],
   "source": []
  },
  {
   "cell_type": "markdown",
   "id": "5dc4cfc2",
   "metadata": {},
   "source": [
    "### 16.已经变量age=10,用来保存我的年龄，现在定义一个新的变量my_name,赋值“我的名字叫洋洋，今天10岁”，其中10是age变量插值，最后打印出my_name"
   ]
  },
  {
   "cell_type": "code",
   "execution_count": null,
   "id": "85a261da",
   "metadata": {},
   "outputs": [],
   "source": []
  },
  {
   "cell_type": "markdown",
   "id": "304621ef",
   "metadata": {},
   "source": [
    "### 17.在python中'56.78'与56.78的的结果是不一样的，使用变量让它们都变成字符串，用if对比一下它们是不是一样的"
   ]
  },
  {
   "cell_type": "code",
   "execution_count": null,
   "id": "f569961e",
   "metadata": {},
   "outputs": [],
   "source": []
  },
  {
   "cell_type": "markdown",
   "id": "61d18a2e",
   "metadata": {},
   "source": [
    "### 18.条件语句中我们做比较操作来将程序分支走向，以下比较操作都是很常用的，请写出他们对应的符号."
   ]
  },
  {
   "cell_type": "markdown",
   "id": "95b174ad",
   "metadata": {},
   "source": [
    "相等:\n",
    "小于:\n",
    "大于:\n",
    "小于或等于:\n",
    "大于或等于:\n",
    "不等于（有两个）:"
   ]
  },
  {
   "cell_type": "markdown",
   "id": "aa72656a",
   "metadata": {},
   "source": [
    "### 19.在比较的时候我们还可以使用and,or,not,这三种关键字，他们分别代表什么？"
   ]
  },
  {
   "cell_type": "markdown",
   "id": "01d519d5",
   "metadata": {},
   "source": [
    "and:\n",
    "or:\n",
    "not:"
   ]
  },
  {
   "cell_type": "markdown",
   "id": "c509a9e4",
   "metadata": {},
   "source": [
    "### 20.以下这个程序会打印出什么结果？"
   ]
  },
  {
   "cell_type": "code",
   "execution_count": null,
   "id": "3936085a",
   "metadata": {},
   "outputs": [],
   "source": [
    "my_age = 18\n",
    "if my_age <18:\n",
    "    print('您还不满18岁，不能玩游戏')\n",
    "else:\n",
    "    print('你是成年人，可以玩游戏')"
   ]
  },
  {
   "cell_type": "markdown",
   "id": "19f0d8c0",
   "metadata": {},
   "source": [
    "### 21.检查一个数是否大于30但小于或等于40，使用变量加if条件语句写出这个程序"
   ]
  },
  {
   "cell_type": "code",
   "execution_count": null,
   "id": "01ff8109",
   "metadata": {},
   "outputs": [],
   "source": []
  },
  {
   "cell_type": "markdown",
   "id": "2ef4fd3b",
   "metadata": {},
   "source": [
    "### 22.检查用户输入的字母是不是等于大写的Q,请接收用户输入值，将用户输入的值保存在变量，然后用if做检查"
   ]
  },
  {
   "cell_type": "code",
   "execution_count": null,
   "id": "516c29b2",
   "metadata": {},
   "outputs": [],
   "source": []
  },
  {
   "cell_type": "markdown",
   "id": "ded935fb",
   "metadata": {},
   "source": [
    "### 23.下面这个循环会运行多少次？"
   ]
  },
  {
   "cell_type": "code",
   "execution_count": null,
   "id": "7114f6a5",
   "metadata": {},
   "outputs": [],
   "source": [
    "for i in range(1,6):\n",
    "    print('我是小菜')"
   ]
  },
  {
   "cell_type": "markdown",
   "id": "679d5f42",
   "metadata": {},
   "source": [
    "### 24.在python中，range()函数可以快速创建一个数字列表，请示问range(1,8)会得出一个什么样的列表？"
   ]
  },
  {
   "cell_type": "code",
   "execution_count": null,
   "id": "f96edb36",
   "metadata": {},
   "outputs": [],
   "source": [
    "lst_num = range(1,8)\n",
    "print(lst_num)"
   ]
  },
  {
   "cell_type": "markdown",
   "id": "765af325",
   "metadata": {},
   "source": [
    "### 25.在python中range(0,8) 可以简写成什么，使用if判断这两种结果是否一样?"
   ]
  },
  {
   "cell_type": "code",
   "execution_count": null,
   "id": "6a6e6285",
   "metadata": {},
   "outputs": [],
   "source": []
  },
  {
   "cell_type": "markdown",
   "id": "3403a983",
   "metadata": {},
   "source": [
    "### 26.使用函数range(1,100,2)得出的是一个什么样的列表"
   ]
  },
  {
   "cell_type": "code",
   "execution_count": null,
   "id": "b5bf670d",
   "metadata": {},
   "outputs": [],
   "source": []
  },
  {
   "cell_type": "markdown",
   "id": "0f979dd6",
   "metadata": {},
   "source": [
    "### 27.使用函数range(10,0,-2)得出的是一个什么样的列表"
   ]
  },
  {
   "cell_type": "code",
   "execution_count": null,
   "id": "401442de",
   "metadata": {},
   "outputs": [],
   "source": []
  },
  {
   "cell_type": "markdown",
   "id": "b4ea177a",
   "metadata": {},
   "source": [
    "### 28.要使以下的while循环在10秒后停止，应该怎么做"
   ]
  },
  {
   "cell_type": "code",
   "execution_count": null,
   "id": "7a58942f",
   "metadata": {},
   "outputs": [],
   "source": [
    "is_ok = True\n",
    "while is_ok:\n",
    "    print('我是洋洋')\n",
    "    time.sleep(1)"
   ]
  }
 ],
 "metadata": {
  "interpreter": {
   "hash": "e746eafcc9c3755c618fd70b7289e2c77c6dfaa86036ed9f41128bb78d1ac1c4"
  },
  "kernelspec": {
   "display_name": "\"Python/Mu (mu_venv-38-20211110-120707)\"",
   "language": "python",
   "name": "python3"
  },
  "language_info": {
   "codemirror_mode": {
    "name": "ipython",
    "version": 3
   },
   "file_extension": ".py",
   "mimetype": "text/x-python",
   "name": "python",
   "nbconvert_exporter": "python",
   "pygments_lexer": "ipython3",
   "version": "3.9.7"
  }
 },
 "nbformat": 4,
 "nbformat_minor": 5
}
